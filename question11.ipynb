{
 "cells": [
  {
   "cell_type": "markdown",
   "id": "280c0d28-a531-4461-8cd4-c52271e81367",
   "metadata": {},
   "source": [
    "# Jenna LeBlanc\n",
    "\n",
    "Notebook for assignment 7"
   ]
  },
  {
   "cell_type": "code",
   "execution_count": 2,
   "id": "243bbe43-2537-47e5-aeb0-7faf00d360d2",
   "metadata": {},
   "outputs": [
    {
     "name": "stdout",
     "output_type": "stream",
     "text": [
      "5.0\n"
     ]
    }
   ],
   "source": [
    "def compute_mean(num_list):\n",
    "    print(sum(num_list) / len(num_list))\n",
    "\n",
    "compute_mean([2, 4, 6, 8]) "
   ]
  },
  {
   "cell_type": "markdown",
   "id": "cfd9b3e1-ca22-4b0e-a49d-baacb639d8c9",
   "metadata": {},
   "source": [
    "The above function computes the mean of the values in a list and prints the results.\n",
    "\n",
    "\n",
    "$$(\\bar{x}) = {\\frac {x_{1}+x_{2}+\\cdots +x_{n}}{n}} = \\frac{1}{n} (\\sum_{i=1}^{n} x_{i} )$$"
   ]
  },
  {
   "cell_type": "markdown",
   "id": "650a8e50-b334-4a13-bd7d-34f0d0b24ee7",
   "metadata": {},
   "source": [
    "<img src=\"images_07/q_11.png\" width=\"150%\"></img>"
   ]
  },
  {
   "cell_type": "code",
   "execution_count": null,
   "id": "9f8748f6-6e07-4a3f-aab7-6483778a887e",
   "metadata": {},
   "outputs": [],
   "source": []
  }
 ],
 "metadata": {
  "kernelspec": {
   "display_name": "Python 3 (ipykernel)",
   "language": "python",
   "name": "python3"
  },
  "language_info": {
   "codemirror_mode": {
    "name": "ipython",
    "version": 3
   },
   "file_extension": ".py",
   "mimetype": "text/x-python",
   "name": "python",
   "nbconvert_exporter": "python",
   "pygments_lexer": "ipython3",
   "version": "3.11.5"
  }
 },
 "nbformat": 4,
 "nbformat_minor": 5
}
